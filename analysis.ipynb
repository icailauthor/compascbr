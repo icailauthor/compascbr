{
 "cells": [
  {
   "cell_type": "markdown",
   "metadata": {},
   "source": [
    "### Imports"
   ]
  },
  {
   "cell_type": "code",
   "execution_count": 29,
   "metadata": {},
   "outputs": [],
   "source": [
    "import matplotlib.pyplot as plt\n",
    "from matplotlib import rc\n",
    "from random import shuffle\n",
    "import pandas as pd\n",
    "import numpy as np\n",
    "import operator\n",
    "from z3 import * # must be at least version 4.12.2. \n",
    "from tqdm import tqdm\n",
    "from math import comb\n",
    "from itertools import combinations\n",
    "from sklearn.linear_model import LogisticRegression\n",
    "\n",
    "pd.set_option(\"future.no_silent_downcasting\", True)\n",
    "\n",
    "# # Configure Matplotlib to use LaTeX with ACM's font settings\n",
    "# rc('text', usetex=True)\n",
    "# rc('font', family='serif', serif=['Times'], size=7)  # Match ACM's font (Times New Roman)\n",
    "\n",
    "# Configure Matplotlib to use LaTeX with the newtxmath package\n",
    "rc('text', usetex=True)\n",
    "rc('font', family='serif')  # Use a serif font for text\n",
    "rc('mathtext', fontset='custom')  # Allow custom math fonts\n",
    "rc('text.latex', preamble=r'\\usepackage{newtxmath}')\n",
    "\n",
    "# Class for a \"functional\" dictionary, which can be also be accessed with round brackets. \n",
    "class fdict(dict):\n",
    "    def __call__(self, k):\n",
    "        return self[k] \n",
    "    \n",
    "# Define the various score names and methods of binning them.\n",
    "scores = [\"grecid\", \"vrecid\", \"fta\"]\n",
    "score_types = [\"rs\", \"ds\", \"txt\", \"lnl\"]\n",
    "\n",
    "# Fix a random seed.\n",
    "np.random.seed(389)"
   ]
  },
  {
   "cell_type": "markdown",
   "metadata": {},
   "source": [
    "### Load the risk scores as a dataframe"
   ]
  },
  {
   "cell_type": "code",
   "execution_count": 30,
   "metadata": {},
   "outputs": [],
   "source": [
    "# Load the risk scores and supervision recommendations into dataframes.\n",
    "rscores = pd.read_csv('data/rscores.csv').drop([\"person_id\", \"grecid_outcome\", \"vrecid_outcome\"], axis=\"columns\")\n",
    "slevel = pd.read_csv('data/slevel.csv')\n",
    "\n",
    "# Shuffle the data.\n",
    "rscores = rscores.sample(frac=1).reset_index(drop=True)\n",
    "slevel = slevel.sample(frac=1).reset_index(drop=True)"
   ]
  },
  {
   "cell_type": "markdown",
   "metadata": {},
   "source": [
    "### Fit logistic regression as an example of a GLM"
   ]
  },
  {
   "cell_type": "code",
   "execution_count": 254,
   "metadata": {},
   "outputs": [
    {
     "name": "stdout",
     "output_type": "stream",
     "text": [
      "Coefficients of the model: [-0.04 -0.2  -0.03  0.11  0.55]\n",
      "Testing on 5 samples.\n",
      "      partnered  p_current_age  offenses_within_30  male  predictions\n",
      "8026          0             18                  10     1         0.73\n",
      "7930          0             21                   3     1         0.54\n",
      "7883          1             25                   1     1         0.41\n",
      "9600          0             46                   1     1         0.30\n",
      "8331          1             67                   1     0         0.10\n"
     ]
    }
   ],
   "source": [
    "# Define the in- and output variables. \n",
    "x = [\"partnered\", \"p_current_age\", \"offenses_within_30\", \"male\"]\n",
    "y = [\"grecid_outcome\"]\n",
    "\n",
    "# Load the data. \n",
    "logregdf = pd.read_csv('data/rscores.csv')[x + y]\n",
    "logregdf = logregdf.sample(frac=1).reset_index(drop=True)\n",
    "\n",
    "# Filer some outliers.\n",
    "logregdf = logregdf[logregdf[\"offenses_within_30\"] <= 10]\n",
    "\n",
    "# Make an 80/20 train/test split. \n",
    "logregdf_train = logregdf[:int(0.8 * len(logregdf))]\n",
    "logregdf_test = logregdf[int(0.8 * len(logregdf)):] \n",
    "X_train = logregdf_train[x]\n",
    "y_train = logregdf_train[y]\n",
    "X_test = logregdf_test[x]\n",
    "y_test = logregdf_test[y]\n",
    "\n",
    "# Fit the logistic regression model on the train set.\n",
    "model = LogisticRegression()\n",
    "model.fit(X_train.values, y_train.values.ravel())\n",
    "\n",
    "def sigmoid(x):\n",
    "    return 1/(1+np.exp(-x))\n",
    "\n",
    "def pred(b, x):\n",
    "    return round(sigmoid(np.dot(b, x)), 2)\n",
    "\n",
    "# Concatenate the intercept and the coefficients in a single list of coefficients.\n",
    "beta = np.concatenate((model.intercept_, model.coef_[0]))\n",
    "print(f\"Coefficients of the model: {np.round(beta, 2)}\")\n",
    "\n",
    "# Make predictions for 5 randomly chosen test samples.\n",
    "print(\"Testing on 5 samples.\")\n",
    "\n",
    "tsamples = X_test\n",
    "\n",
    "# Add a column to tsamples corresponding to the prediction.\n",
    "preds = pd.Series([pred(beta, np.concatenate(([1], X_test.iloc[i])))][0] for i in range(len(X_test)))\n",
    "tsamples = tsamples.assign(predictions=preds.values)\n",
    "\n",
    "# Order tsamples by the predictions column.\n",
    "tsamples = tsamples.sort_values(by=\"predictions\", ascending=False)\n",
    "\n",
    "qs = [0.0000001, 10, 50, 80, 99.99999999999]\n",
    "\n",
    "# Subselect the rows of tsamples coresponding to the qunantiles in qs, and place in a new dataframe.\n",
    "quantile_samples = tsamples.iloc[[int(len(tsamples) * q / 100) for q in qs]]\n",
    "print(quantile_samples)"
   ]
  },
  {
   "cell_type": "markdown",
   "metadata": {},
   "source": [
    "### Recompute recommended supervision level scores"
   ]
  },
  {
   "cell_type": "code",
   "execution_count": 99,
   "metadata": {},
   "outputs": [
    {
     "name": "stdout",
     "output_type": "stream",
     "text": [
      "Percentage of slevel scores that agree with NYCOMPAS table: 1.0\n",
      "Percentage of all grecid/vrecid scores present in the dataset: 0.82\n"
     ]
    }
   ],
   "source": [
    "# The function that computes the recommended supervision level, as described in the \n",
    "# document by the NYS CJS, Office of Probation and Correctional Alternatives. \n",
    "def f(x):\n",
    "    if x[\"vrecid_ds\"] <= 5:\n",
    "        if x[\"grecid_ds\"] <= 5: \n",
    "            return 1\n",
    "        elif x[\"grecid_ds\"] <= 7:\n",
    "            return 2\n",
    "        else:\n",
    "            return 3\n",
    "    elif x[\"vrecid_ds\"] <= 7:\n",
    "        if x[\"grecid_ds\"] <= 7:\n",
    "            return 2\n",
    "        else:\n",
    "            return 3\n",
    "    else:\n",
    "        if x[\"grecid_ds\"] <= 7:\n",
    "            return 3\n",
    "        else:\n",
    "            return 4\n",
    "\n",
    "# Check whether the values in the dataset correspond to the f values,\n",
    "# and how many of the possible grecid/vrecid combinations are in the dataset.\n",
    "perc2 = sum([int(len(rscores[(rscores[\"grecid_ds\"] == i) & (rscores[\"vrecid_ds\"] == j)]) > 0) for i in range(1, 11) for j in range(1, 11)]) / 100\n",
    "perc1 = (slevel[\"slevel\"] == slevel.apply(f, axis=1)).mean()\n",
    "print(f\"Percentage of slevel scores that agree with NYCOMPAS table: {perc1}\")\n",
    "print(f\"Percentage of all grecid/vrecid scores present in the dataset: {perc2}\")"
   ]
  },
  {
   "cell_type": "markdown",
   "metadata": {},
   "source": [
    "### Define relevant dimension subsets"
   ]
  },
  {
   "cell_type": "code",
   "execution_count": 100,
   "metadata": {},
   "outputs": [],
   "source": [
    "# Total sets of inputs and output dimensions.\n",
    "TD = [f\"{sc}_{st}\" for sc in scores for st in score_types]\n",
    "ID = [d for d in rscores.columns.values if d not in TD]\n",
    "\n",
    "# Dimensions related to age of the defendant.\n",
    "AGE = [\"p_current_age\", \"p_age_first_offense\"]\n",
    "\n",
    "# Dimensions belonging to the \"History of Criminal Involvement\" subscale.\n",
    "HCI = [\"p_charge\", \"p_arrest\", \"p_jail30\", \"p_prison30\", \"p_prison\", \"p_probation\", \"is_misdem\"]\n",
    "\n",
    "# Dimensions belonging to the \"History of Violence\" subscale. \n",
    "HV = [\"p_juv_fel_count\", \"p_felprop_violarrest\", \"p_murder_arrest\", \"p_felassault_arrest\", \"p_misdemassault_arrest\", \"p_famviol_arrest\", \"p_sex_arrest\", \"p_weapons_arrest\"]\n",
    "\n",
    "# Dimensions belonging to the \"History of Non-Compliance\" subscale. \n",
    "HNC = [\"p_n_on_probation\", \"p_current_on_probation\", \"p_prob_revoke\"]\n",
    "\n",
    "# Select the input dimensions for each of the scores.\n",
    "GRRS = HCI + AGE\n",
    "VRRS = HV + HNC + AGE\n",
    "PRRS = HCI + [\"partnered\"]\n",
    "RSCORE = {\n",
    "    \"grecid\" : GRRS,\n",
    "    \"vrecid\" : VRRS,\n",
    "    \"fta\" : PRRS\n",
    "}\n",
    "SLEVEL = {st : [f\"{s}_{st}\" for s in scores] for st in [\"rs\", \"ds\"]}"
   ]
  },
  {
   "cell_type": "markdown",
   "metadata": {},
   "source": [
    "### Initialize Z3 related information\n",
    "\n",
    "Here we initialize:\n",
    "* The solver.\n",
    "* The sorts for each feature (float or int).\n",
    "* Methods to cast python types to Z3 types. \n",
    "* The orders associated to the dimensions.\n",
    "* Methods used to calculate case base constraint and consistency."
   ]
  },
  {
   "cell_type": "code",
   "execution_count": 101,
   "metadata": {},
   "outputs": [],
   "source": [
    "# A dictionary mapping a dimension to its Z3 sort.\n",
    "sorts = {}\n",
    "\n",
    "# A dictionary mapping a dimension value to its Z3 value.\n",
    "cast = {}\n",
    "\n",
    "# Loop over the dimensions and fill the sorts and cast dicts.\n",
    "for df in [rscores, slevel]:\n",
    "    for d in df.columns:\n",
    "        if df.dtypes[d] == 'float64':\n",
    "            sorts[d] = RealSort()\n",
    "            cast[d] = RealVal\n",
    "        else:\n",
    "            sorts[d] = IntSort()\n",
    "            # cast[d] = IntVal # This should work but doesn't due to a bug in Z3.\n",
    "            cast[d] = lambda x: IntVal(int(x)) # wrap IntVal in a python integer cast to avoid the bug.\n",
    "\n",
    "# Define the dimension orders. \n",
    "dec = [\"p_current_age\", \"p_age_first_offense\", \"male\", \"partnered\", \"is_misdem\"]\n",
    "inc = [c for c in rscores.columns if c not in dec]\n",
    "orders = {c : operator.ge if c in dec else operator.le for c in rscores.columns}\n",
    "\n",
    "# Create the case bases. \n",
    "Cs = {\n",
    "    \"rscores\" : [{d : cast[d](r[d]) for d in rscores.columns} for r in rscores.iloc],\n",
    "    \"slevel\" : [{d : cast[d](r[d]) for d in slevel.columns} for r in slevel.iloc]\n",
    "}\n",
    "\n",
    "# Express case base constraint in terms of logical formulas. \n",
    "def equal(X, Y, D):\n",
    "    return And([X[d] == Y[d] for d in D])\n",
    "\n",
    "def lteq(X, Y, D):\n",
    "    return And([orders[d](X[d], Y[d]) for d in D[:-1]])\n",
    "\n",
    "def lob(X, Y, D):\n",
    "    return Implies(lteq(Y, X, D), Y[D[-1]] <= X[D[-1]])\n",
    "\n",
    "def upb(X, Y, D):\n",
    "    return Implies(lteq(X, Y, D), X[D[-1]] <= Y[D[-1]])\n",
    "\n",
    "# Returns the consistency of the case base C with respect to the dimensions D. \n",
    "def calc_cons(C, D):\n",
    "    # Initialize the solver.\n",
    "    s = Solver()\n",
    "\n",
    "    # Make a variable fact situation.\n",
    "    x = {d : Const(f'x_{d}', sorts[d]) for d in D}\n",
    "\n",
    "    # Compute its consistency percentage.\n",
    "    s.push()\n",
    "    s.add([f for Y in C for f in [upb(x, Y, D), lob(x, Y, D)]])\n",
    "    cons = 0\n",
    "    total = len(C)\n",
    "    for X in C:\n",
    "        s.push()\n",
    "        s.add(equal(x, X, D))\n",
    "        cons += s.check() == sat\n",
    "        s.pop()\n",
    "    s.pop()\n",
    "\n",
    "    # Return the (rounded) result.\n",
    "    return round(cons/total, 2)"
   ]
  },
  {
   "cell_type": "markdown",
   "metadata": {},
   "source": [
    "### Consistency of risk scores"
   ]
  },
  {
   "cell_type": "code",
   "execution_count": null,
   "metadata": {},
   "outputs": [
    {
     "name": "stderr",
     "output_type": "stream",
     "text": [
      "100%|██████████| 18/18 [34:43<00:00, 115.77s/it]\n",
      "100%|██████████| 14/14 [35:46<00:00, 153.34s/it]\n",
      "100%|██████████| 19/19 [33:31<00:00, 105.87s/it]\n"
     ]
    }
   ],
   "source": [
    "# List for storing the results.\n",
    "stats = []\n",
    "\n",
    "for score in scores:\n",
    "    # Define the dimension sets. \n",
    "    REM = [d for d in ID if d not in RSCORE[score]]\n",
    "    shuffle(REM)\n",
    "    D = RSCORE[score]\n",
    "    additions = [[]] + [[d] for d in REM]\n",
    "\n",
    "    # Progressively add the remaining dimensions. \n",
    "    for addition in tqdm(additions):\n",
    "        D = addition + D\n",
    "        for st in score_types:\n",
    "            stats += [[score, st, len(D), calc_cons(Cs[\"rscores\"], D + [f\"{score}_{st}\"])]]\n",
    "\n",
    "# Gather the data in a dataframe. \n",
    "statsdf = pd.DataFrame(stats, columns=[\"score\", \"st\", \"i\", \"cons\"])"
   ]
  },
  {
   "cell_type": "code",
   "execution_count": 111,
   "metadata": {},
   "outputs": [],
   "source": [
    "statsdf.to_csv('data/rscores_cons.csv', index=False)"
   ]
  },
  {
   "cell_type": "code",
   "execution_count": 120,
   "metadata": {},
   "outputs": [
    {
     "data": {
      "image/png": "[encoded data removed]",
      "text/plain": [
       "<Figure size 700x200 with 3 Axes>"
      ]
     },
     "metadata": {},
     "output_type": "display_data"
    }
   ],
   "source": [
    "# Grouping and calculating the mean\n",
    "grouped = statsdf.groupby(['score', 'st', 'i'])['cons'].mean().reset_index()\n",
    "\n",
    "score_type_labels = {\n",
    "    \"rs\" : \"Raw\",\n",
    "    \"ds\" : \"Decile\",\n",
    "    \"txt\" : \"Text\",\n",
    "    \"lnl\" : \"Low/Not low\",\n",
    "}\n",
    "\n",
    "# Plotting\n",
    "x_ticks = {\n",
    "    \"grecid\" : [10, 15, 20, 25],\n",
    "    \"vrecid\" : [15, 20, 25],\n",
    "    \"fta\" : [10, 15, 20, 25],\n",
    "}\n",
    "fig, axes = plt.subplots(1, 3, figsize=(7, 2), sharey=True)\n",
    "latex_titles = {\"grecid\": \"$\\\\mathbf{GRecid}$\", \"vrecid\": \"$\\\\mathbf{VRecid}$\", \"fta\": \"$\\\\mathbf{FTA}$\"}\n",
    "for ax, score in zip(axes, scores):\n",
    "    for score_type in score_types:\n",
    "        subset = grouped[(grouped['score'] == score) & (grouped['st'] == score_type)]\n",
    "        ax.plot(subset['i'], subset['cons'], label=score_type_labels[score_type])\n",
    "    ax.set_title(latex_titles[score])\n",
    "    ax.spines['top'].set_visible(False)  # Remove the top border\n",
    "    ax.spines['right'].set_visible(False)  # Remove the right border\n",
    "    ax.set_xlabel('')  # Remove individual x-axis labels\n",
    "    ax.grid(True, axis='y', linestyle='dotted')  # Only horizontal dotted gridlines\n",
    "    ax.grid(False, axis='x')  # Remove vertical gridlines\n",
    "    ax.set_xticks(x_ticks[score])  # Set uniform y-axis tick markers\n",
    "\n",
    "axes[0].set_ylabel('Consistency percentage')  # Add y-axis label to the leftmost plot\n",
    "axes[-1].legend(title=\"Score Type\")  # Add legend only to the rightmost plot\n",
    "\n",
    "# Adding a shared x-axis label\n",
    "fig.text(0.5, -0.01, 'Number of dimensions', ha='center')  # Adjusted position\n",
    "\n",
    "# Save the plot as a PDF at a specified location\n",
    "output_path = \"cons_scores.pdf\"\n",
    "plt.tight_layout(rect=[0, 0, 1, 0.95])  # Adjust layout to ensure space for the legend and labels\n",
    "# plt.savefig(output_path, format=\"pdf\", bbox_inches=\"tight\")  # Ensure full figure is saved\n",
    "\n",
    "plt.show()"
   ]
  },
  {
   "cell_type": "markdown",
   "metadata": {},
   "source": [
    "### Compute the SLevel consistency scores"
   ]
  },
  {
   "cell_type": "code",
   "execution_count": 32,
   "metadata": {},
   "outputs": [
    {
     "name": "stdout",
     "output_type": "stream",
     "text": [
      "\n",
      " Computing SLevel consistency percentage for rs.\n"
     ]
    },
    {
     "name": "stderr",
     "output_type": "stream",
     "text": [
      "100%|██████████| 12510/12510 [00:25<00:00, 488.96it/s]\n"
     ]
    },
    {
     "name": "stdout",
     "output_type": "stream",
     "text": [
      "The consistency percentage is 10369 / 12510 = 0.83.\n",
      "\n",
      " Computing SLevel consistency percentage for ds.\n"
     ]
    },
    {
     "name": "stderr",
     "output_type": "stream",
     "text": [
      "100%|██████████| 12510/12510 [00:03<00:00, 3237.07it/s]"
     ]
    },
    {
     "name": "stdout",
     "output_type": "stream",
     "text": [
      "The consistency percentage is 12510 / 12510 = 1.0.\n"
     ]
    },
    {
     "name": "stderr",
     "output_type": "stream",
     "text": [
      "\n"
     ]
    }
   ],
   "source": [
    "for st in SLEVEL:\n",
    "    print(f\"\\n Computing SLevel consistency percentage for {st}.\")\n",
    "\n",
    "    # Restrict the df to the relevant subset of dimensions.\n",
    "    D = SLEVEL[st] + [\"slevel\"]\n",
    "    df = slevel[D]\n",
    "\n",
    "    # Make a variable fact situation.\n",
    "    x = {d : Const(f'x_{d}', sorts[d]) for d in D}\n",
    "\n",
    "    # Initialize the case base for this subset.\n",
    "    C = Cs[\"slevel\"]\n",
    "\n",
    "    # Compute its consistency percentage.\n",
    "    s.push()\n",
    "    s.add([f for Y in C for f in [upb(x, Y, D), lob(x, Y, D)]])\n",
    "    cons = 0\n",
    "    total = len(C)\n",
    "    for X in tqdm(C):\n",
    "        s.push()\n",
    "        s.add(equal(x, X, D))\n",
    "        cons += s.check() == sat\n",
    "        s.pop()\n",
    "    s.pop()\n",
    "\n",
    "    print(f\"The consistency percentage is {cons} / {total} = {round(cons / total, 2)}.\")"
   ]
  }
 ],
 "metadata": {
  "kernelspec": {
   "display_name": "sat2",
   "language": "python",
   "name": "python3"
  },
  "language_info": {
   "codemirror_mode": {
    "name": "ipython",
    "version": 3
   },
   "file_extension": ".py",
   "mimetype": "text/x-python",
   "name": "python",
   "nbconvert_exporter": "python",
   "pygments_lexer": "ipython3",
   "version": "3.10.10"
  }
 },
 "nbformat": 4,
 "nbformat_minor": 2
}
